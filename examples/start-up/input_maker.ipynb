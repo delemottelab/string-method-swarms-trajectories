{
 "cells": [
  {
   "cell_type": "markdown",
   "metadata": {},
   "source": [
    "# Input Maker for String-method simulations.\n",
    "\n",
    "With this notebook you will be able to prepare the input files for string-method simulation as well as the optional preparatory steering simulation. The necessary `.mdp` files will be generated, the cvs will be defined as well as optionally the initial string. \n",
    "\n",
    "This notebook only deals with cvs that are distances between atoms or centers of mass of groups of atoms. Nevertheless, we invite you to try it to understand the logic of the pull coordinates and mdp file creation so you can later adapt it to your own cvs (dihedrals, angles etc). The main limitation of the CVs that can be used is the feature availability of the pull-code of gromacs. \n",
    "\n",
    "Let's get started!"
   ]
  },
  {
   "cell_type": "markdown",
   "metadata": {},
   "source": [
    "Make sure you have installed the imports in this library. "
   ]
  },
  {
   "cell_type": "code",
   "execution_count": 2,
   "metadata": {},
   "outputs": [],
   "source": [
    "import sys\n",
    "import MDAnalysis as mda\n",
    "import numpy as np\n",
    "import glob\n",
    "import matplotlib.pyplot as plt\n",
    "from math import ceil\n",
    "import os\n",
    "import shutil\n",
    "import pickle"
   ]
  },
  {
   "cell_type": "code",
   "execution_count": 3,
   "metadata": {},
   "outputs": [],
   "source": [
    "def distance_atom_groups(u, sel1, sel2, progressbar=True, center_of_mass=False):\n",
    "    \"\"\"\n",
    "    Calculate the distance between the centers of geometry (or mass) between two groups (sel1, sel2) as a function of time in the trajectory trj.\n",
    "\n",
    "    Parameters\n",
    "    ----------\n",
    "    u: MDA universe to analyz trajectory to analyze.\n",
    "    sel1: MDA selection containing at least 1 atom.\n",
    "    sel2: MDA selection containing at least 1 atom.\n",
    "    center_of_mass: Use the center of mass instead of center of geometry.\n",
    "    progressbar: Show progressbar.\n",
    "\n",
    "    Returns\n",
    "    -------\n",
    "    d: matplotlib figure object.\n",
    "    \"\"\"\n",
    "    from MDAnalysis import Universe\n",
    "    from MDAnalysis import AtomGroup\n",
    "    from numpy import array\n",
    "    from tqdm import tqdm\n",
    "    from numpy.linalg import norm\n",
    "\n",
    "    assert isinstance(u, Universe), \"u should be a MDAnlaysis universe.\"\n",
    "    assert isinstance(sel1, AtomGroup), \"sel1 should be a MDAnlaysis universe.\"\n",
    "    assert isinstance(sel2, AtomGroup), \"sel2 should be a MDAnlaysis universe.\"\n",
    "    assert isinstance(progressbar, bool), \"progressbar should be boolean.\"\n",
    "    assert sel1.n_atoms >= 1, \"sel1 should have at least 1 atom.\"\n",
    "    assert sel2.n_atoms >= 1, \"sel2 should have at least 1 atom.\"\n",
    "\n",
    "    d = []\n",
    "    for i, ts in tqdm(\n",
    "        enumerate(u.trajectory), total=u.trajectory.n_frames, disable=not progressbar\n",
    "    ):\n",
    "        if center_of_mass:\n",
    "            csel1 = sel1.center_of_mass()\n",
    "            csel2 = sel2.center_of_mass()\n",
    "        else:\n",
    "            csel1 = sel1.centroid()\n",
    "            csel2 = sel2.centroid()\n",
    "        d.append([ts.dt * i, norm(csel1 - csel2)])\n",
    "    return array(d)"
   ]
  },
  {
   "cell_type": "markdown",
   "metadata": {},
   "source": [
    "## Choosing starting and final configurations\n",
    "\n",
    "With `start.gro` and `end.gro` are used to define the initial and final values of the cvs in the string.\n",
    "\n",
    "Note that since `.gro` files don't always have the best topology information might need to add some sort of topology file like so:\n",
    "```python\n",
    "start = mda.Universe('topology/top.pdb', 'topology/start.gro')\n",
    "```\n",
    "Of course, `start.pdb` or `end.pdb` can also be used directly"
   ]
  },
  {
   "cell_type": "code",
   "execution_count": 4,
   "metadata": {},
   "outputs": [
    {
     "name": "stderr",
     "output_type": "stream",
     "text": [
      "/home/sperez/data_partition/bin2/anaconda3/envs/string_method/lib/python3.8/site-packages/MDAnalysis/topology/base.py:203: DeprecationWarning: `np.int` is a deprecated alias for the builtin `int`. To silence this warning, use `int` by itself. Doing this will not modify any behavior and is safe. When replacing `np.int`, you may wish to use e.g. `np.int64` or `np.int32` to specify the precision. If you wish to review your current use, check the release note link for additional information.\n",
      "Deprecated in NumPy 1.20; for more details and guidance: https://numpy.org/devdocs/release/1.20.0-notes.html#deprecations\n",
      "  residx = np.zeros_like(criteria[0], dtype=np.int)\n"
     ]
    }
   ],
   "source": [
    "start = mda.Universe(\"topology/start.gro\")\n",
    "# start = mda.Universe('topology/top.pdb', 'topology/start.gro')\n",
    "end = mda.Universe(\"topology/end.gro\")\n",
    "# end = mda.Universe('topology/top.pdb', 'topology/end.gro')"
   ]
  },
  {
   "cell_type": "markdown",
   "metadata": {},
   "source": [
    "## Choosing number of bead on string\n",
    "\n",
    "Choose the number of beads of the string. This should be done keeping in mind the parallelization conditions that will be used and if the first and last strings of the bead will be mobile or fixed. For the @DelemotteLab HPC environment 34 beads (32 of them moving) is a good starting point. Additional information about the parallelization can be found in the main `README.md` of the repository."
   ]
  },
  {
   "cell_type": "code",
   "execution_count": 5,
   "metadata": {},
   "outputs": [],
   "source": [
    "n_beads = 32 + 2"
   ]
  },
  {
   "cell_type": "markdown",
   "metadata": {},
   "source": [
    "## Defining the CVs\n",
    "\n",
    "The dictionary `ndx_groups` defines the index groups that will be added to `index0.ndx` and will be used by gmx to calculate the string cvs. The key-value pairs of the dictionary are the alias of the index group (no spaces please) and the `MDAnalysis` selection-string of the group. You can read more about MDAnalysis selections [here](https://docs.mdanalysis.org/stable/documentation_pages/selections.html). \n",
    "\n",
    "The cvs will be the distances between the centers of mass of the consequtive pairs of groups.\n",
    "\n",
    "In this example bellow there would be two CVs: \n",
    "```python \n",
    "ndx_groups = {\n",
    "    \"CA_77_A\": \"name CA and resid 77 and segid PROA\",\n",
    "    \"CA_77_B\": \"name CA and resid 77 and segid PROB\",\n",
    "    \"112_A\": \"resid 112 and segid PROA\",\n",
    "    \"13_C\": \"resid 13 and segid PROC\",\n",
    "}\n",
    "```\n",
    "1. The distance between CA atoms of resid 77 of segid PROA and resid 77 of segment PROB.\n",
    "2. The distance between the center of mass of resid 112 of segid PROA and the center of mass of resid 13 of segid PROC. \n",
    "\n",
    "For this example we will use other CVs special for GPCRs. In this case we will select the atoms by using their index number. If a group or groups are involved in two distances, for the set up of this notebook, its best to write them twice in this list with a slightly different name. This is the case for `a_4334`  which is involved in two distances with `a_863` and also `a_1971`. For this reason we add the entries `a_863b` and also `a_1971b`."
   ]
  },
  {
   "cell_type": "code",
   "execution_count": 6,
   "metadata": {},
   "outputs": [],
   "source": [
    "ndx_groups = {\n",
    "    \"a_863\": \"bynum 863\",\n",
    "    \"a_4334\": \"bynum 4334\",\n",
    "    \"a_1971\": \"bynum 1971\",\n",
    "    \"a_3340\": \"bynum 3340\",\n",
    "    \"a_1462\": \"bynum 1462\",\n",
    "    \"a_3459\": \"bynum 3459\",\n",
    "    \"a_3203\": \"bynum 3203\",\n",
    "    \"a_3318\": \"bynum 3318\",\n",
    "    \"a_4334_b\": \"bynum 4334\",\n",
    "    \"a_1971_b\": \"bynum 1971\",\n",
    "}\n",
    "n_groups = len(ndx_groups.keys())"
   ]
  },
  {
   "cell_type": "markdown",
   "metadata": {},
   "source": [
    "The next cell will show you which pairs will be used as cvs:"
   ]
  },
  {
   "cell_type": "code",
   "execution_count": 7,
   "metadata": {},
   "outputs": [
    {
     "name": "stdout",
     "output_type": "stream",
     "text": [
      "Pairs of groups whose distance are cvs:\n",
      "a_863 - a_4334\n",
      "a_1971 - a_3340\n",
      "a_1462 - a_3459\n",
      "a_3203 - a_3318\n",
      "a_4334_b - a_1971_b\n"
     ]
    }
   ],
   "source": [
    "cvs = []\n",
    "for i in range(1, len(ndx_groups) + 1, 2):\n",
    "    cvs.append([i, i + 1])\n",
    "n_cvs = len(cvs)\n",
    "print(\"Pairs of groups whose distance are cvs:\")\n",
    "keys_groups = list(ndx_groups.keys())\n",
    "for i in range(n_cvs):\n",
    "    print(f\"{keys_groups[cvs[i][0]-1]} - {keys_groups[cvs[i][1]-1]}\")"
   ]
  },
  {
   "cell_type": "markdown",
   "metadata": {},
   "source": [
    "## Choosing force constants\n",
    "\n",
    "The list `kappas` contains the force constants for the steered simulation, the restrained portions of the string-simulation and the swarms of the the string-simulation.\n",
    "\n",
    "The force constant of the swarm simulation should always be 0."
   ]
  },
  {
   "cell_type": "code",
   "execution_count": 8,
   "metadata": {},
   "outputs": [],
   "source": [
    "kappas = [10000.0, 10000.0, 0.0]\n",
    "assert kappas[2] == 0.0, \"The kappa of the swarm simulation should be 0\""
   ]
  },
  {
   "cell_type": "markdown",
   "metadata": {},
   "source": [
    "These are the printing frequency of the cvs (pull-coordinates), best not to modify."
   ]
  },
  {
   "cell_type": "code",
   "execution_count": 9,
   "metadata": {},
   "outputs": [],
   "source": [
    "nstxout = [50000, 5000, 5000]"
   ]
  },
  {
   "cell_type": "markdown",
   "metadata": {},
   "source": [
    "## Making the input files:\n",
    "\n",
    "At this point you need to modify `swarms.mdp`, `restrained.mdp` and `steered.mdp`. There are instructions inside of which parts need to be modified. The pull section will be modified by this notebook.\n",
    "\n",
    "The cell bellow will append the pull-coord parameters to the `mdp` files and append the groups for cvs to `index0.ndx` generating `index.ndx`.\n",
    "\n",
    "A pickle file with the `cvs`and `ndx_groups` will be generated for future reference.\n",
    "\n",
    "If you are re-running this notebook to check the steering simulation set `write_mdps = False`."
   ]
  },
  {
   "cell_type": "code",
   "execution_count": 10,
   "metadata": {},
   "outputs": [],
   "source": [
    "write_mdps = True"
   ]
  },
  {
   "cell_type": "code",
   "execution_count": 11,
   "metadata": {},
   "outputs": [
    {
     "name": "stderr",
     "output_type": "stream",
     "text": [
      "/home/sperez/data_partition/bin2/anaconda3/envs/string_method/lib/python3.8/site-packages/MDAnalysis/core/selection.py:728: DeprecationWarning: `np.bool` is a deprecated alias for the builtin `bool`. To silence this warning, use `bool` by itself. Doing this will not modify any behavior and is safe. If you specifically wanted the numpy scalar type, use `np.bool_` here.\n",
      "Deprecated in NumPy 1.20; for more details and guidance: https://numpy.org/devdocs/release/1.20.0-notes.html#deprecations\n",
      "  mask = np.zeros(len(group), dtype=np.bool)\n"
     ]
    }
   ],
   "source": [
    "pickle.dump([cvs, ndx_groups], open(\"cv.pkl\", \"wb\"))\n",
    "\n",
    "shutil.copy(\"topology/index0.ndx\", \"topology/index.ndx\")\n",
    "\n",
    "for key in ndx_groups.keys():\n",
    "    group = start.select_atoms(ndx_groups[key])\n",
    "    group.write(\"topology/index.ndx\", name=key, mode=\"a\")\n",
    "\n",
    "files = [\n",
    "    open(file, \"r\").readlines()\n",
    "    for file in [\"mdp/steered.mdp\", \"mdp/restrained.mdp\", \"mdp/swarms.mdp\"]\n",
    "]\n",
    "\n",
    "for j, file in enumerate(files):\n",
    "    final_line = len(file)\n",
    "    for i, line in enumerate(file):\n",
    "        if line.strip() == \";start pull\":\n",
    "            final_line = i\n",
    "            break\n",
    "    if line.strip() != \";start pull\":\n",
    "        file.append(\";start pull\")\n",
    "    files[j] = file[0 : final_line + 1]\n",
    "\n",
    "for f, file in enumerate(files):\n",
    "    file.append(\"\\n\")\n",
    "    file.append(\"pull = yes\\n\")\n",
    "    file.append(f\"pull-ngroups = {n_groups}\\n\")\n",
    "    file.append(\"\\n\")\n",
    "    for i, key in enumerate(ndx_groups.keys()):\n",
    "        file.append(f\"pull-group{i+1}-name = {key}\\n\")\n",
    "    file.append(\"\\n\")\n",
    "    file.append(f\"pull-ncoords = {n_cvs}\\n\")\n",
    "    for i, cv in enumerate(cvs):\n",
    "        if len(cv) == 2:\n",
    "            file.append(f\"pull-coord{i+1}-geometry = distance\\n\")\n",
    "            file.append(f\"pull-coord{i+1}-k = {kappas[f]}\\n\")\n",
    "            g = \" \".join(str(e) for e in cv)\n",
    "            file.append(f\"pull-coord{i+1}-groups = {g}\\n\")\n",
    "    file.append(\"\\n\")\n",
    "    file.append(\"pull-print-components = no\\n\")\n",
    "    file.append(f\"pull-nstxout = {nstxout[f]}\\n\")\n",
    "    file.append(\"pull-nstfout = 0\\n\")\n",
    "\n",
    "if write_mdps:\n",
    "    for f, file_string in enumerate(\n",
    "        [\"mdp/steered.mdp\", \"mdp/restrained.mdp\", \"mdp/swarms.mdp\"]\n",
    "    ):\n",
    "        with open(file_string, \"w\") as file:\n",
    "            for line in files[f]:\n",
    "                file.write(line)"
   ]
  },
  {
   "cell_type": "markdown",
   "metadata": {},
   "source": [
    "Now that the `.mdp` files and indeces have been made it is always a good idea to check them out and see they do what you want them to. The pull coordinates are missing some parameters that are automatically added during simulation. Here are mdp parameters of gmx for [reference](https://manual.gromacs.org/documentation/2020/user-guide/mdp-options.html#com-pulling)."
   ]
  },
  {
   "cell_type": "markdown",
   "metadata": {},
   "source": [
    "## Making the initial string `string0.txt`"
   ]
  },
  {
   "cell_type": "markdown",
   "metadata": {},
   "source": [
    "If you have made your own string you can skip this section and place its corresponding file in `strings/string0.txt`. Remember this file must follow the `np.savetxt` format and have shape (n_bead, ncvs).\n",
    "\n",
    "If you don't have a string0.txt. You can created with the code below. The code makes a linear interpolation between the value of the CVs at `start.gro` and `end.gro`. If you want something fancier, you can program any thing you want."
   ]
  },
  {
   "cell_type": "code",
   "execution_count": 12,
   "metadata": {},
   "outputs": [
    {
     "name": "stderr",
     "output_type": "stream",
     "text": [
      "/home/sperez/data_partition/bin2/anaconda3/envs/string_method/lib/python3.8/site-packages/MDAnalysis/coordinates/base.py:865: UserWarning: Reader has no dt information, set to 1.0 ps\n",
      "  warnings.warn(\"Reader has no dt information, set to 1.0 ps\")\n"
     ]
    }
   ],
   "source": [
    "dis_s = []\n",
    "dis_e = []\n",
    "for cv in cvs:\n",
    "    dis_s.append(\n",
    "        distance_atom_groups(\n",
    "            start,\n",
    "            start.select_atoms(ndx_groups[list(ndx_groups.keys())[cv[0] - 1]]),\n",
    "            start.select_atoms(ndx_groups[list(ndx_groups.keys())[cv[1] - 1]]),\n",
    "            progressbar=False,\n",
    "            center_of_mass=True,\n",
    "        )[0][1]\n",
    "    )\n",
    "    dis_e.append(\n",
    "        distance_atom_groups(\n",
    "            end,\n",
    "            end.select_atoms(ndx_groups[list(ndx_groups.keys())[cv[0] - 1]]),\n",
    "            end.select_atoms(ndx_groups[list(ndx_groups.keys())[cv[1] - 1]]),\n",
    "            progressbar=False,\n",
    "            center_of_mass=True,\n",
    "        )[0][1]\n",
    "    )\n",
    "dis_s = np.array(dis_s)\n",
    "dis_e = np.array(dis_e)"
   ]
  },
  {
   "cell_type": "markdown",
   "metadata": {},
   "source": [
    "If your atoms groups have more than 1 atom. With the code bellow you can check the masses of the atoms used in the groups to see if something is fishy:"
   ]
  },
  {
   "cell_type": "code",
   "execution_count": 13,
   "metadata": {},
   "outputs": [
    {
     "name": "stdout",
     "output_type": "stream",
     "text": [
      "Masses for the start config.\n",
      " \n",
      "Masses of a_863:  12.011 \n",
      "Masses of a_4334:  12.011 \n",
      "Masses of a_1971:  12.011 \n",
      "Masses of a_3340:  12.011 \n",
      "Masses of a_1462:  12.011 \n",
      "Masses of a_3459:  12.011 \n",
      "Masses of a_3203:  12.011 \n",
      "Masses of a_3318:  12.011 \n",
      "Masses of a_4334_b:  12.011 \n",
      "Masses of a_1971_b:  12.011 \n",
      " \n",
      "Masses for the end config.\n",
      " \n",
      "Masses of a_863  12.011 \n",
      "Masses of a_4334  12.011 \n",
      "Masses of a_1971  12.011 \n",
      "Masses of a_3340  12.011 \n",
      "Masses of a_1462  12.011 \n",
      "Masses of a_3459  12.011 \n",
      "Masses of a_3203  12.011 \n",
      "Masses of a_3318  12.011 \n",
      "Masses of a_4334_b  12.011 \n",
      "Masses of a_1971_b  12.011 \n"
     ]
    }
   ],
   "source": [
    "print(\"Masses for the start config.\")\n",
    "print(\" \")\n",
    "for key in ndx_groups.keys():\n",
    "    mass = start.select_atoms(ndx_groups[key]).masses\n",
    "    print(f\"Masses of {key}: \", end=\" \")\n",
    "    for i in mass:\n",
    "        print(i, end=\" \")\n",
    "    print()\n",
    "print(\" \")\n",
    "print(\"Masses for the end config.\")\n",
    "print(\" \")\n",
    "for key in ndx_groups.keys():\n",
    "    mass = end.select_atoms(ndx_groups[key]).masses\n",
    "    print(f\"Masses of {key} \", end=\" \")\n",
    "    for i in mass:\n",
    "        print(i, end=\" \")\n",
    "    print()"
   ]
  },
  {
   "cell_type": "markdown",
   "metadata": {},
   "source": [
    "Instead of linspace you can make your own function to create the string. Remember that MDAnalysis uses Å but gmx needs the string in nm!!"
   ]
  },
  {
   "cell_type": "code",
   "execution_count": 14,
   "metadata": {},
   "outputs": [],
   "source": [
    "string = np.linspace(dis_s, dis_e, n_beads) / 10"
   ]
  },
  {
   "cell_type": "markdown",
   "metadata": {},
   "source": [
    "Print out the string."
   ]
  },
  {
   "cell_type": "code",
   "execution_count": 15,
   "metadata": {},
   "outputs": [],
   "source": [
    "np.savetxt(\"strings/string0.txt\", string)"
   ]
  },
  {
   "cell_type": "markdown",
   "metadata": {},
   "source": [
    "## Visualize the string"
   ]
  },
  {
   "cell_type": "markdown",
   "metadata": {},
   "source": [
    "Independently of if you have made your own string or with this program you can visualize it with the cell bellow. "
   ]
  },
  {
   "cell_type": "code",
   "execution_count": 16,
   "metadata": {},
   "outputs": [
    {
     "data": {
      "image/png": "[encoded data removed]",
      "text/plain": [
       "<Figure size 1080x864 with 5 Axes>"
      ]
     },
     "metadata": {
      "needs_background": "light"
     },
     "output_type": "display_data"
    }
   ],
   "source": [
    "string = np.loadtxt(\"strings/string0.txt\")\n",
    "n_plots = string.shape[1]\n",
    "fig, ax = plt.subplots(ceil(n_plots / 2), 2, figsize=(15, 4 * ceil(n_plots / 2)))\n",
    "ax = ax.flatten()\n",
    "for i in range(n_plots):\n",
    "    ax[i].plot(string[:, i], ls=\"\", marker=\"x\", label=\"string0\")\n",
    "    ax[i].set_xlabel(\n",
    "        f\"{list(ndx_groups.keys())[2*i]} - {list(ndx_groups.keys())[2*i+1]}\", size=16\n",
    "    )\n",
    "    ax[i].set_ylabel(\"d (nm)\", size=16)\n",
    "    ax[i].tick_params(axis=\"both\", which=\"major\", labelsize=13)\n",
    "ax[1].legend()\n",
    "if n_plots % 2:\n",
    "    fig.delaxes(ax[-1])"
   ]
  },
  {
   "cell_type": "markdown",
   "metadata": {},
   "source": [
    "## Next steps"
   ]
  },
  {
   "cell_type": "markdown",
   "metadata": {},
   "source": [
    "At this point, we are ready to prepared to run the steering simulations if needed. Refer to the README.md for further indications."
   ]
  },
  {
   "cell_type": "code",
   "execution_count": null,
   "metadata": {},
   "outputs": [],
   "source": []
  }
 ],
 "metadata": {
  "kernelspec": {
   "display_name": "string_method",
   "language": "python",
   "name": "string_method"
  },
  "language_info": {
   "codemirror_mode": {
    "name": "ipython",
    "version": 3
   },
   "file_extension": ".py",
   "mimetype": "text/x-python",
   "name": "python",
   "nbconvert_exporter": "python",
   "pygments_lexer": "ipython3",
   "version": "3.8.5"
  }
 },
 "nbformat": 4,
 "nbformat_minor": 4
}
